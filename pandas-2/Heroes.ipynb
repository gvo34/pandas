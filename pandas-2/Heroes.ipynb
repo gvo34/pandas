{
 "cells": [
  {
   "cell_type": "markdown",
   "metadata": {},
   "source": [
    "# Heroes"
   ]
  },
  {
   "cell_type": "code",
   "execution_count": 646,
   "metadata": {
    "collapsed": true
   },
   "outputs": [],
   "source": [
    "import pandas as pd\n",
    "import os"
   ]
  },
  {
   "cell_type": "code",
   "execution_count": 647,
   "metadata": {},
   "outputs": [],
   "source": [
    "filename = os.path.join('raw_data','purchase_data.json')\n",
    "#filename = os.path.join('raw_data','purchase_data2.json')"
   ]
  },
  {
   "cell_type": "code",
   "execution_count": 648,
   "metadata": {},
   "outputs": [],
   "source": [
    "purchases = pd.read_json(filename)"
   ]
  },
  {
   "cell_type": "markdown",
   "metadata": {},
   "source": [
    "### Player count"
   ]
  },
  {
   "cell_type": "code",
   "execution_count": 649,
   "metadata": {},
   "outputs": [
    {
     "data": {
      "text/plain": [
       "573"
      ]
     },
     "execution_count": 649,
     "metadata": {},
     "output_type": "execute_result"
    }
   ],
   "source": [
    "total_players = purchases['SN'].nunique()\n",
    "total_players"
   ]
  },
  {
   "cell_type": "markdown",
   "metadata": {},
   "source": [
    "### Purchasing Analysis (Total)\n"
   ]
  },
  {
   "cell_type": "code",
   "execution_count": 650,
   "metadata": {},
   "outputs": [],
   "source": [
    "items = len(purchases['Item Name'].unique())"
   ]
  },
  {
   "cell_type": "code",
   "execution_count": 651,
   "metadata": {},
   "outputs": [],
   "source": [
    "average_price = purchases['Price'].mean()\n",
    "average_price = \"${:,.2f}\".format(average_price)"
   ]
  },
  {
   "cell_type": "code",
   "execution_count": 652,
   "metadata": {},
   "outputs": [],
   "source": [
    "total_revenue = purchases['Price'].sum()\n",
    "total_revenue = \"${:,.2f}\".format(total_revenue)"
   ]
  },
  {
   "cell_type": "code",
   "execution_count": 653,
   "metadata": {},
   "outputs": [],
   "source": [
    "total_purchases = len(purchases)\n",
    "items = purchases[['Item ID','Item Name','Price']]\n",
    "items = items.sort_values(by='Item ID')\n",
    "items = items.drop_duplicates()\n",
    "items = items['Item ID'].count()"
   ]
  },
  {
   "cell_type": "code",
   "execution_count": 654,
   "metadata": {},
   "outputs": [
    {
     "data": {
      "text/html": [
       "<div>\n",
       "<style>\n",
       "    .dataframe thead tr:only-child th {\n",
       "        text-align: right;\n",
       "    }\n",
       "\n",
       "    .dataframe thead th {\n",
       "        text-align: left;\n",
       "    }\n",
       "\n",
       "    .dataframe tbody tr th {\n",
       "        vertical-align: top;\n",
       "    }\n",
       "</style>\n",
       "<table border=\"1\" class=\"dataframe\">\n",
       "  <thead>\n",
       "    <tr style=\"text-align: right;\">\n",
       "      <th></th>\n",
       "      <th>Average Purchase Price</th>\n",
       "      <th>Number of Unique Items</th>\n",
       "      <th>Total Number of Purchases</th>\n",
       "      <th>Total Revenue</th>\n",
       "    </tr>\n",
       "  </thead>\n",
       "  <tbody>\n",
       "    <tr>\n",
       "      <th>0</th>\n",
       "      <td>$2.93</td>\n",
       "      <td>183</td>\n",
       "      <td>780</td>\n",
       "      <td>$2,286.33</td>\n",
       "    </tr>\n",
       "  </tbody>\n",
       "</table>\n",
       "</div>"
      ],
      "text/plain": [
       "  Average Purchase Price  Number of Unique Items  Total Number of Purchases  \\\n",
       "0                  $2.93                     183                        780   \n",
       "\n",
       "  Total Revenue  \n",
       "0     $2,286.33  "
      ]
     },
     "execution_count": 654,
     "metadata": {},
     "output_type": "execute_result"
    }
   ],
   "source": [
    "purchases_dict = {'Number of Unique Items':[items],\n",
    "                  'Average Purchase Price': [average_price],\n",
    "                  'Total Number of Purchases':[total_purchases],\n",
    "                  'Total Revenue':[total_revenue]\n",
    "                 }\n",
    "purchases_df = pd.DataFrame(purchases_dict)\n",
    "purchases_df"
   ]
  },
  {
   "cell_type": "markdown",
   "metadata": {},
   "source": [
    "### Gender Demographics\n",
    "\n",
    "Percentage and Count of Male Players\n",
    "Percentage and Count of Female Players\n",
    "Percentage and Count of Other / Non-Disclosed"
   ]
  },
  {
   "cell_type": "code",
   "execution_count": 655,
   "metadata": {},
   "outputs": [],
   "source": [
    "byGender = purchases.groupby('Gender')"
   ]
  },
  {
   "cell_type": "code",
   "execution_count": 656,
   "metadata": {},
   "outputs": [],
   "source": [
    "dem = pd.DataFrame(byGender['SN'].nunique())"
   ]
  },
  {
   "cell_type": "code",
   "execution_count": 657,
   "metadata": {},
   "outputs": [],
   "source": [
    "dem['percentage'] = dem['SN'].divide(total_players)\n",
    "dem['percentage'] = dem['percentage'].multiply(100)\n",
    "dem['percentage'] = dem['percentage'].map(\"{:,.2f}%\".format)"
   ]
  },
  {
   "cell_type": "code",
   "execution_count": 658,
   "metadata": {},
   "outputs": [
    {
     "data": {
      "text/html": [
       "<div>\n",
       "<style>\n",
       "    .dataframe thead tr:only-child th {\n",
       "        text-align: right;\n",
       "    }\n",
       "\n",
       "    .dataframe thead th {\n",
       "        text-align: left;\n",
       "    }\n",
       "\n",
       "    .dataframe tbody tr th {\n",
       "        vertical-align: top;\n",
       "    }\n",
       "</style>\n",
       "<table border=\"1\" class=\"dataframe\">\n",
       "  <thead>\n",
       "    <tr style=\"text-align: right;\">\n",
       "      <th></th>\n",
       "      <th>SN</th>\n",
       "      <th>percentage</th>\n",
       "    </tr>\n",
       "    <tr>\n",
       "      <th>Gender</th>\n",
       "      <th></th>\n",
       "      <th></th>\n",
       "    </tr>\n",
       "  </thead>\n",
       "  <tbody>\n",
       "    <tr>\n",
       "      <th>Female</th>\n",
       "      <td>100</td>\n",
       "      <td>17.45%</td>\n",
       "    </tr>\n",
       "    <tr>\n",
       "      <th>Male</th>\n",
       "      <td>465</td>\n",
       "      <td>81.15%</td>\n",
       "    </tr>\n",
       "    <tr>\n",
       "      <th>Other / Non-Disclosed</th>\n",
       "      <td>8</td>\n",
       "      <td>1.40%</td>\n",
       "    </tr>\n",
       "  </tbody>\n",
       "</table>\n",
       "</div>"
      ],
      "text/plain": [
       "                        SN percentage\n",
       "Gender                               \n",
       "Female                 100     17.45%\n",
       "Male                   465     81.15%\n",
       "Other / Non-Disclosed    8      1.40%"
      ]
     },
     "execution_count": 658,
     "metadata": {},
     "output_type": "execute_result"
    }
   ],
   "source": [
    "dem"
   ]
  },
  {
   "cell_type": "markdown",
   "metadata": {},
   "source": [
    "### Purchasing Analysis (Gender)\n"
   ]
  },
  {
   "cell_type": "code",
   "execution_count": 659,
   "metadata": {},
   "outputs": [],
   "source": [
    "purchase_count = byGender['SN'].count()\n",
    "average_purchase_price = byGender['Price'].mean()\n",
    "total_purchase_value = byGender['Price'].sum()\n",
    "normalized_total = total_purchase_value / purchase_count"
   ]
  },
  {
   "cell_type": "code",
   "execution_count": 660,
   "metadata": {},
   "outputs": [
    {
     "data": {
      "text/html": [
       "<div>\n",
       "<style>\n",
       "    .dataframe thead tr:only-child th {\n",
       "        text-align: right;\n",
       "    }\n",
       "\n",
       "    .dataframe thead th {\n",
       "        text-align: left;\n",
       "    }\n",
       "\n",
       "    .dataframe tbody tr th {\n",
       "        vertical-align: top;\n",
       "    }\n",
       "</style>\n",
       "<table border=\"1\" class=\"dataframe\">\n",
       "  <thead>\n",
       "    <tr style=\"text-align: right;\">\n",
       "      <th></th>\n",
       "      <th>SN</th>\n",
       "      <th>percentage</th>\n",
       "      <th>purchase count</th>\n",
       "      <th>average purchase</th>\n",
       "      <th>total purchase</th>\n",
       "      <th>Normalized total</th>\n",
       "    </tr>\n",
       "    <tr>\n",
       "      <th>Gender</th>\n",
       "      <th></th>\n",
       "      <th></th>\n",
       "      <th></th>\n",
       "      <th></th>\n",
       "      <th></th>\n",
       "      <th></th>\n",
       "    </tr>\n",
       "  </thead>\n",
       "  <tbody>\n",
       "    <tr>\n",
       "      <th>Female</th>\n",
       "      <td>100</td>\n",
       "      <td>17.45%</td>\n",
       "      <td>136</td>\n",
       "      <td>$2.82</td>\n",
       "      <td>$382.91</td>\n",
       "      <td>$2.82</td>\n",
       "    </tr>\n",
       "    <tr>\n",
       "      <th>Male</th>\n",
       "      <td>465</td>\n",
       "      <td>81.15%</td>\n",
       "      <td>633</td>\n",
       "      <td>$2.95</td>\n",
       "      <td>$1,867.68</td>\n",
       "      <td>$2.95</td>\n",
       "    </tr>\n",
       "    <tr>\n",
       "      <th>Other / Non-Disclosed</th>\n",
       "      <td>8</td>\n",
       "      <td>1.40%</td>\n",
       "      <td>11</td>\n",
       "      <td>$3.25</td>\n",
       "      <td>$35.74</td>\n",
       "      <td>$3.25</td>\n",
       "    </tr>\n",
       "  </tbody>\n",
       "</table>\n",
       "</div>"
      ],
      "text/plain": [
       "                        SN percentage  purchase count average purchase  \\\n",
       "Gender                                                                   \n",
       "Female                 100     17.45%             136            $2.82   \n",
       "Male                   465     81.15%             633            $2.95   \n",
       "Other / Non-Disclosed    8      1.40%              11            $3.25   \n",
       "\n",
       "                      total purchase Normalized total  \n",
       "Gender                                                 \n",
       "Female                       $382.91            $2.82  \n",
       "Male                       $1,867.68            $2.95  \n",
       "Other / Non-Disclosed         $35.74            $3.25  "
      ]
     },
     "execution_count": 660,
     "metadata": {},
     "output_type": "execute_result"
    }
   ],
   "source": [
    "dem['purchase count'] = purchase_count\n",
    "dem['average purchase'] = average_purchase_price.map(\"${:,.2f}\".format)\n",
    "dem['total purchase'] = total_purchase_value.map(\"${:,.2f}\".format)\n",
    "dem['Normalized total'] = normalized_total.map(\"${:,.2f}\".format)\n",
    "dem"
   ]
  },
  {
   "cell_type": "markdown",
   "metadata": {},
   "source": [
    "### Age Demographics"
   ]
  },
  {
   "cell_type": "code",
   "execution_count": 661,
   "metadata": {},
   "outputs": [],
   "source": [
    "ages = [0,10,14,19,24,29,34,100]\n",
    "age_buckets = ['<10','10-14','15-19','20-24','25-29','30-35','>35']\n",
    "\n",
    "purchase_age = pd.cut(purchases['Age'],bins=ages,labels=age_buckets)\n",
    "purchases['Age Group'] = purchase_age\n",
    "byAge = purchases.groupby('Age Group')\n",
    "age_purchase_count = byAge['Age Group'].count()\n",
    "age_average_purchase_price = byAge['Price'].mean()\n",
    "age_total_purchase_value = byAge['Price'].sum()\n",
    "age_normalized_total = age_total_purchase_value / age_purchase_count\n",
    "age_demog_df = pd.DataFrame({'Purchase Count':age_purchase_count,\n",
    "                            'Average Purchase Price':age_average_purchase_price.map(\"${:,.2f}\".format),\n",
    "                            'Total Purchase Value':age_total_purchase_value.map(\"${:,.2f}\".format),\n",
    "                            'Normalized totals':age_normalized_total.map(\"${:,.2f}\".format)})"
   ]
  },
  {
   "cell_type": "code",
   "execution_count": 662,
   "metadata": {},
   "outputs": [
    {
     "data": {
      "text/html": [
       "<div>\n",
       "<style>\n",
       "    .dataframe thead tr:only-child th {\n",
       "        text-align: right;\n",
       "    }\n",
       "\n",
       "    .dataframe thead th {\n",
       "        text-align: left;\n",
       "    }\n",
       "\n",
       "    .dataframe tbody tr th {\n",
       "        vertical-align: top;\n",
       "    }\n",
       "</style>\n",
       "<table border=\"1\" class=\"dataframe\">\n",
       "  <thead>\n",
       "    <tr style=\"text-align: right;\">\n",
       "      <th></th>\n",
       "      <th>Average Purchase Price</th>\n",
       "      <th>Normalized totals</th>\n",
       "      <th>Purchase Count</th>\n",
       "      <th>Total Purchase Value</th>\n",
       "    </tr>\n",
       "    <tr>\n",
       "      <th>Age Group</th>\n",
       "      <th></th>\n",
       "      <th></th>\n",
       "      <th></th>\n",
       "      <th></th>\n",
       "    </tr>\n",
       "  </thead>\n",
       "  <tbody>\n",
       "    <tr>\n",
       "      <th>&lt;10</th>\n",
       "      <td>$3.02</td>\n",
       "      <td>$3.02</td>\n",
       "      <td>32</td>\n",
       "      <td>$96.62</td>\n",
       "    </tr>\n",
       "    <tr>\n",
       "      <th>10-14</th>\n",
       "      <td>$2.70</td>\n",
       "      <td>$2.70</td>\n",
       "      <td>31</td>\n",
       "      <td>$83.79</td>\n",
       "    </tr>\n",
       "    <tr>\n",
       "      <th>15-19</th>\n",
       "      <td>$2.91</td>\n",
       "      <td>$2.91</td>\n",
       "      <td>133</td>\n",
       "      <td>$386.42</td>\n",
       "    </tr>\n",
       "    <tr>\n",
       "      <th>20-24</th>\n",
       "      <td>$2.91</td>\n",
       "      <td>$2.91</td>\n",
       "      <td>336</td>\n",
       "      <td>$978.77</td>\n",
       "    </tr>\n",
       "    <tr>\n",
       "      <th>25-29</th>\n",
       "      <td>$2.96</td>\n",
       "      <td>$2.96</td>\n",
       "      <td>125</td>\n",
       "      <td>$370.33</td>\n",
       "    </tr>\n",
       "    <tr>\n",
       "      <th>30-35</th>\n",
       "      <td>$3.08</td>\n",
       "      <td>$3.08</td>\n",
       "      <td>64</td>\n",
       "      <td>$197.25</td>\n",
       "    </tr>\n",
       "    <tr>\n",
       "      <th>&gt;35</th>\n",
       "      <td>$2.93</td>\n",
       "      <td>$2.93</td>\n",
       "      <td>59</td>\n",
       "      <td>$173.15</td>\n",
       "    </tr>\n",
       "  </tbody>\n",
       "</table>\n",
       "</div>"
      ],
      "text/plain": [
       "          Average Purchase Price Normalized totals  Purchase Count  \\\n",
       "Age Group                                                            \n",
       "<10                        $3.02             $3.02              32   \n",
       "10-14                      $2.70             $2.70              31   \n",
       "15-19                      $2.91             $2.91             133   \n",
       "20-24                      $2.91             $2.91             336   \n",
       "25-29                      $2.96             $2.96             125   \n",
       "30-35                      $3.08             $3.08              64   \n",
       ">35                        $2.93             $2.93              59   \n",
       "\n",
       "          Total Purchase Value  \n",
       "Age Group                       \n",
       "<10                     $96.62  \n",
       "10-14                   $83.79  \n",
       "15-19                  $386.42  \n",
       "20-24                  $978.77  \n",
       "25-29                  $370.33  \n",
       "30-35                  $197.25  \n",
       ">35                    $173.15  "
      ]
     },
     "execution_count": 662,
     "metadata": {},
     "output_type": "execute_result"
    }
   ],
   "source": [
    "age_demog_df"
   ]
  },
  {
   "cell_type": "markdown",
   "metadata": {},
   "source": [
    "# Top Spenders"
   ]
  },
  {
   "cell_type": "code",
   "execution_count": 663,
   "metadata": {},
   "outputs": [],
   "source": [
    "\n",
    "byName = purchases.groupby('SN')\n",
    "total_spend = byName['Price'].sum()\n",
    "purchase_count =byName['Price'].count()\n",
    "average_price = byName['Price'].mean()\n",
    "\n",
    "top_spend = pd.DataFrame({'Total Purchase Value':total_spend,\n",
    "                             'Purchase Count':purchase_count,\n",
    "                             'Average Purchase Price':average_price})\n",
    "\n",
    "top_spend = top_spend.sort_values(by='Total Purchase Value', ascending=False)[:5]\n",
    "top_spend['Total Purchase Value'] = top_spend['Total Purchase Value'].map(\"${:,.2f}\".format)\n",
    "top_spend['Average Purchase Price'] = top_spend['Average Purchase Price'].map(\"${:,.2f}\".format)"
   ]
  },
  {
   "cell_type": "code",
   "execution_count": 664,
   "metadata": {},
   "outputs": [
    {
     "data": {
      "text/html": [
       "<div>\n",
       "<style>\n",
       "    .dataframe thead tr:only-child th {\n",
       "        text-align: right;\n",
       "    }\n",
       "\n",
       "    .dataframe thead th {\n",
       "        text-align: left;\n",
       "    }\n",
       "\n",
       "    .dataframe tbody tr th {\n",
       "        vertical-align: top;\n",
       "    }\n",
       "</style>\n",
       "<table border=\"1\" class=\"dataframe\">\n",
       "  <thead>\n",
       "    <tr style=\"text-align: right;\">\n",
       "      <th></th>\n",
       "      <th>Average Purchase Price</th>\n",
       "      <th>Purchase Count</th>\n",
       "      <th>Total Purchase Value</th>\n",
       "    </tr>\n",
       "    <tr>\n",
       "      <th>SN</th>\n",
       "      <th></th>\n",
       "      <th></th>\n",
       "      <th></th>\n",
       "    </tr>\n",
       "  </thead>\n",
       "  <tbody>\n",
       "    <tr>\n",
       "      <th>Undirrala66</th>\n",
       "      <td>$3.41</td>\n",
       "      <td>5</td>\n",
       "      <td>$17.06</td>\n",
       "    </tr>\n",
       "    <tr>\n",
       "      <th>Saedue76</th>\n",
       "      <td>$3.39</td>\n",
       "      <td>4</td>\n",
       "      <td>$13.56</td>\n",
       "    </tr>\n",
       "    <tr>\n",
       "      <th>Mindimnya67</th>\n",
       "      <td>$3.18</td>\n",
       "      <td>4</td>\n",
       "      <td>$12.74</td>\n",
       "    </tr>\n",
       "    <tr>\n",
       "      <th>Haellysu29</th>\n",
       "      <td>$4.24</td>\n",
       "      <td>3</td>\n",
       "      <td>$12.73</td>\n",
       "    </tr>\n",
       "    <tr>\n",
       "      <th>Eoda93</th>\n",
       "      <td>$3.86</td>\n",
       "      <td>3</td>\n",
       "      <td>$11.58</td>\n",
       "    </tr>\n",
       "  </tbody>\n",
       "</table>\n",
       "</div>"
      ],
      "text/plain": [
       "            Average Purchase Price  Purchase Count Total Purchase Value\n",
       "SN                                                                     \n",
       "Undirrala66                  $3.41               5               $17.06\n",
       "Saedue76                     $3.39               4               $13.56\n",
       "Mindimnya67                  $3.18               4               $12.74\n",
       "Haellysu29                   $4.24               3               $12.73\n",
       "Eoda93                       $3.86               3               $11.58"
      ]
     },
     "execution_count": 664,
     "metadata": {},
     "output_type": "execute_result"
    }
   ],
   "source": [
    "top_spend"
   ]
  },
  {
   "cell_type": "markdown",
   "metadata": {},
   "source": [
    "### Most Popular Items"
   ]
  },
  {
   "cell_type": "code",
   "execution_count": 665,
   "metadata": {},
   "outputs": [
    {
     "data": {
      "text/html": [
       "<div>\n",
       "<style>\n",
       "    .dataframe thead tr:only-child th {\n",
       "        text-align: right;\n",
       "    }\n",
       "\n",
       "    .dataframe thead th {\n",
       "        text-align: left;\n",
       "    }\n",
       "\n",
       "    .dataframe tbody tr th {\n",
       "        vertical-align: top;\n",
       "    }\n",
       "</style>\n",
       "<table border=\"1\" class=\"dataframe\">\n",
       "  <thead>\n",
       "    <tr style=\"text-align: right;\">\n",
       "      <th></th>\n",
       "      <th>Item Name</th>\n",
       "      <th>Item Price</th>\n",
       "      <th>Purchase Count</th>\n",
       "      <th>Total Purchase Value</th>\n",
       "    </tr>\n",
       "    <tr>\n",
       "      <th>Item ID</th>\n",
       "      <th></th>\n",
       "      <th></th>\n",
       "      <th></th>\n",
       "      <th></th>\n",
       "    </tr>\n",
       "  </thead>\n",
       "  <tbody>\n",
       "    <tr>\n",
       "      <th>39</th>\n",
       "      <td>Betrayal, Whisper of Grieving Widows</td>\n",
       "      <td>$2.35</td>\n",
       "      <td>11</td>\n",
       "      <td>$25.85</td>\n",
       "    </tr>\n",
       "    <tr>\n",
       "      <th>84</th>\n",
       "      <td>Arcane Gem</td>\n",
       "      <td>$2.23</td>\n",
       "      <td>11</td>\n",
       "      <td>$24.53</td>\n",
       "    </tr>\n",
       "    <tr>\n",
       "      <th>31</th>\n",
       "      <td>Trickster</td>\n",
       "      <td>$2.07</td>\n",
       "      <td>9</td>\n",
       "      <td>$18.63</td>\n",
       "    </tr>\n",
       "    <tr>\n",
       "      <th>175</th>\n",
       "      <td>Woeful Adamantite Claymore</td>\n",
       "      <td>$1.24</td>\n",
       "      <td>9</td>\n",
       "      <td>$11.16</td>\n",
       "    </tr>\n",
       "    <tr>\n",
       "      <th>13</th>\n",
       "      <td>Serenity</td>\n",
       "      <td>$1.49</td>\n",
       "      <td>9</td>\n",
       "      <td>$13.41</td>\n",
       "    </tr>\n",
       "  </tbody>\n",
       "</table>\n",
       "</div>"
      ],
      "text/plain": [
       "                                    Item Name Item Price  Purchase Count  \\\n",
       "Item ID                                                                    \n",
       "39       Betrayal, Whisper of Grieving Widows      $2.35              11   \n",
       "84                                 Arcane Gem      $2.23              11   \n",
       "31                                  Trickster      $2.07               9   \n",
       "175                Woeful Adamantite Claymore      $1.24               9   \n",
       "13                                   Serenity      $1.49               9   \n",
       "\n",
       "        Total Purchase Value  \n",
       "Item ID                       \n",
       "39                    $25.85  \n",
       "84                    $24.53  \n",
       "31                    $18.63  \n",
       "175                   $11.16  \n",
       "13                    $13.41  "
      ]
     },
     "execution_count": 665,
     "metadata": {},
     "output_type": "execute_result"
    }
   ],
   "source": [
    "byItem = purchases.groupby('Item ID')\n",
    "item_name = byItem['Item Name'].unique()\n",
    "item_name = item_name.map(\"%s\".join)\n",
    "item_price = byItem['Price'].unique()\n",
    "total_spend = byItem['Price'].sum()\n",
    "purchase_count =byItem['Price'].count()\n",
    "average_price = byItem['Price'].mean()\n",
    "\n",
    "popular_dict = pd.DataFrame({'Total Purchase Value':total_spend,\n",
    "                             'Purchase Count':purchase_count,\n",
    "                             'Item Name':item_name,\n",
    "                             'Item Price':item_price\n",
    "                             })\n",
    "\n",
    "popular_df = pd.DataFrame(popular_dict)\n",
    "popular_item = popular_df.sort_values(by='Purchase Count', ascending=False)[:5]\n",
    "\n",
    "\n",
    "popular_item['Total Purchase Value']= popular_item['Total Purchase Value'].map(\"${:,.2f}\".format)\n",
    "popular_item['Item Price'] = popular_item['Item Price'].astype(float).map(\"${:,.2f}\".format)\n",
    "popular_item\n"
   ]
  },
  {
   "cell_type": "markdown",
   "metadata": {},
   "source": [
    "### Most Profitable Items"
   ]
  },
  {
   "cell_type": "code",
   "execution_count": 666,
   "metadata": {},
   "outputs": [],
   "source": [
    "profitable_dict = pd.DataFrame({'Total Purchase Value':total_spend,\n",
    "                             'Purchase Count':purchase_count,\n",
    "                             'Item Name':item_name,\n",
    "                             'Item Price':item_price.astype(float).map(\"${:,.2f}\".format)\n",
    "                             })\n",
    "profitable_df = pd.DataFrame(profitable_dict)\n",
    "profitable = profitable_df.sort_values(by='Total Purchase Value',ascending=False)[:5]\n",
    "\n",
    "profitable['Total Purchase Value'] = profitable['Total Purchase Value'].map(\"${:,.2f}\".format)"
   ]
  },
  {
   "cell_type": "code",
   "execution_count": 667,
   "metadata": {},
   "outputs": [
    {
     "data": {
      "text/html": [
       "<div>\n",
       "<style>\n",
       "    .dataframe thead tr:only-child th {\n",
       "        text-align: right;\n",
       "    }\n",
       "\n",
       "    .dataframe thead th {\n",
       "        text-align: left;\n",
       "    }\n",
       "\n",
       "    .dataframe tbody tr th {\n",
       "        vertical-align: top;\n",
       "    }\n",
       "</style>\n",
       "<table border=\"1\" class=\"dataframe\">\n",
       "  <thead>\n",
       "    <tr style=\"text-align: right;\">\n",
       "      <th></th>\n",
       "      <th>Item Name</th>\n",
       "      <th>Item Price</th>\n",
       "      <th>Purchase Count</th>\n",
       "      <th>Total Purchase Value</th>\n",
       "    </tr>\n",
       "    <tr>\n",
       "      <th>Item ID</th>\n",
       "      <th></th>\n",
       "      <th></th>\n",
       "      <th></th>\n",
       "      <th></th>\n",
       "    </tr>\n",
       "  </thead>\n",
       "  <tbody>\n",
       "    <tr>\n",
       "      <th>34</th>\n",
       "      <td>Retribution Axe</td>\n",
       "      <td>$4.14</td>\n",
       "      <td>9</td>\n",
       "      <td>$37.26</td>\n",
       "    </tr>\n",
       "    <tr>\n",
       "      <th>115</th>\n",
       "      <td>Spectral Diamond Doomblade</td>\n",
       "      <td>$4.25</td>\n",
       "      <td>7</td>\n",
       "      <td>$29.75</td>\n",
       "    </tr>\n",
       "    <tr>\n",
       "      <th>32</th>\n",
       "      <td>Orenmir</td>\n",
       "      <td>$4.95</td>\n",
       "      <td>6</td>\n",
       "      <td>$29.70</td>\n",
       "    </tr>\n",
       "    <tr>\n",
       "      <th>103</th>\n",
       "      <td>Singed Scalpel</td>\n",
       "      <td>$4.87</td>\n",
       "      <td>6</td>\n",
       "      <td>$29.22</td>\n",
       "    </tr>\n",
       "    <tr>\n",
       "      <th>107</th>\n",
       "      <td>Splitter, Foe Of Subtlety</td>\n",
       "      <td>$3.61</td>\n",
       "      <td>8</td>\n",
       "      <td>$28.88</td>\n",
       "    </tr>\n",
       "  </tbody>\n",
       "</table>\n",
       "</div>"
      ],
      "text/plain": [
       "                          Item Name Item Price  Purchase Count  \\\n",
       "Item ID                                                          \n",
       "34                  Retribution Axe      $4.14               9   \n",
       "115      Spectral Diamond Doomblade      $4.25               7   \n",
       "32                          Orenmir      $4.95               6   \n",
       "103                  Singed Scalpel      $4.87               6   \n",
       "107       Splitter, Foe Of Subtlety      $3.61               8   \n",
       "\n",
       "        Total Purchase Value  \n",
       "Item ID                       \n",
       "34                    $37.26  \n",
       "115                   $29.75  \n",
       "32                    $29.70  \n",
       "103                   $29.22  \n",
       "107                   $28.88  "
      ]
     },
     "execution_count": 667,
     "metadata": {},
     "output_type": "execute_result"
    }
   ],
   "source": [
    "profitable"
   ]
  },
  {
   "cell_type": "code",
   "execution_count": null,
   "metadata": {
    "collapsed": true
   },
   "outputs": [],
   "source": []
  },
  {
   "cell_type": "code",
   "execution_count": null,
   "metadata": {
    "collapsed": true
   },
   "outputs": [],
   "source": []
  },
  {
   "cell_type": "code",
   "execution_count": null,
   "metadata": {
    "collapsed": true
   },
   "outputs": [],
   "source": []
  }
 ],
 "metadata": {
  "kernelspec": {
   "display_name": "Python 3",
   "language": "python",
   "name": "python3"
  },
  "language_info": {
   "codemirror_mode": {
    "name": "ipython",
    "version": 3
   },
   "file_extension": ".py",
   "mimetype": "text/x-python",
   "name": "python",
   "nbconvert_exporter": "python",
   "pygments_lexer": "ipython3",
   "version": "3.6.3"
  }
 },
 "nbformat": 4,
 "nbformat_minor": 2
}
